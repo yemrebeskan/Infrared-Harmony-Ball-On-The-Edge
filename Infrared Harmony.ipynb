{
 "cells": [
  {
   "cell_type": "markdown",
   "metadata": {},
   "source": [
    "Infrared Harmony: Ball on The Edge"
   ]
  },
  {
   "cell_type": "markdown",
   "metadata": {},
   "source": [
    "After plugging the power supply to the breadboard and the plug, feed the arduino from the data port with a separate 5v power supply.\n",
    "\n",
    "Then you are ready to run the project\n",
    "\n",
    "\n",
    "THE CODE\n",
    "------------------------------"
   ]
  },
  {
   "cell_type": "markdown",
   "metadata": {},
   "source": [
    "#include <Wire.h>\n",
    "#include <Servo.h>\n",
    "\n",
    "int Analog_in = A0;\n",
    "Servo myservo;\n",
    "float distance = 0;\n",
    "float distance_previous_error, distance_error;\n",
    "int period = 40;\n",
    "float kp = 5.5;\n",
    "float ki = 5;\n",
    "float kd = 2500;\n",
    "float distance_setpoint = 1.5;\n",
    "float PID_p, PID_i, PID_d, PID_total;\n",
    "unsigned long time;\n",
    "int changer = 0;\n",
    "\n",
    "void setup() {\n",
    "\n",
    "  myservo.attach(9);\n",
    "  myservo.write(60); // Write here the angle at which the platform lies flat\n",
    "  pinMode(Analog_in, INPUT);\n",
    "\n",
    "  time = millis();\n",
    "}\n",
    "\n",
    "void loop() {\n",
    "\n",
    "  if (millis() > time + period) {\n",
    "\n",
    "    time = millis();\n",
    "    distance = get_dist(100);\n",
    "    distance_error = distance_setpoint - distance;\n",
    "\n",
    "    PID_p = kp * distance_error;\n",
    "    float dist_difference = distance_error - distance_previous_error;\n",
    "    PID_d = kd * (dist_difference / period);\n",
    "\n",
    "    if (-3 < distance_error && distance_error < 3) {\n",
    "      PID_i = PID_i + (ki * distance_error);\n",
    "    } else {\n",
    "      PID_i = 0;\n",
    "    }\n",
    "\n",
    "    PID_total = PID_p + PID_i + PID_d;\n",
    "    PID_total = map(PID_total, -150, 150, 0, 150);\n",
    "    \n",
    "    // Precautions to prevent the servo from going to extreme angles\n",
    "    if (PID_total < 20) { \n",
    "      PID_total = 20;\n",
    "    }\n",
    "    if (PID_total > 160) {\n",
    "      PID_total = 160;\n",
    "    }\n",
    "\n",
    "    myservo.write(PID_total + 15);\n",
    "    distance_previous_error = distance_error;\n",
    "  }\n",
    "}\n",
    "\n",
    "float get_dist(int n) {\n",
    "  long sum = 0;\n",
    "  for (int i = 0; i < n; i++) {\n",
    "    sum += analogRead(Analog_in);\n",
    "  }\n",
    "  float adc = sum / n;\n",
    "  float distance_cm = 17569.7 * pow(adc, -1.2062);\n",
    "  return(distance_cm);\n",
    "}"
   ]
  },
  {
   "cell_type": "code",
   "execution_count": null,
   "metadata": {},
   "outputs": [],
   "source": []
  }
 ],
 "metadata": {
  "language_info": {
   "name": "python"
  }
 },
 "nbformat": 4,
 "nbformat_minor": 2
}
